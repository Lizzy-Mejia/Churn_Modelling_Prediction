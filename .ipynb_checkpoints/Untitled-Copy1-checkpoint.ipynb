{
 "cells": [
  {
   "cell_type": "code",
   "execution_count": null,
   "id": "28909d3c",
   "metadata": {},
   "outputs": [],
   "source": [
    "# importación de las librerias y bibliotecas que serán utilizadas para el análisis y preparación de los datos\n",
    "import pandas as pd\n",
    "import numpy as np\n",
    "import matplotlib.pyplot as plt\n",
    "import seaborn as sns\n",
    "from sklearn.preprocessing import RobustScaler"
   ]
  },
  {
   "cell_type": "code",
   "execution_count": null,
   "id": "23ea5d27",
   "metadata": {},
   "outputs": [],
   "source": [
    "#Lectura del dataset \n",
    "df = pd.read_csv('Churn_Modelling.csv')"
   ]
  },
  {
   "cell_type": "code",
   "execution_count": null,
   "id": "a7533831",
   "metadata": {},
   "outputs": [],
   "source": [
    "#Visualización inicial del conjunto de datos\n",
    "df"
   ]
  },
  {
   "cell_type": "markdown",
   "id": "7ff2378f",
   "metadata": {},
   "source": [
    "# Evaluación de los datos"
   ]
  },
  {
   "cell_type": "markdown",
   "id": "696849d1",
   "metadata": {},
   "source": [
    "Vamos analizar la información del dataset para poder conocer un poco los datos con los que estaremos trabajando, asi como para poder determinar que procesos necesitamos implementar."
   ]
  },
  {
   "cell_type": "code",
   "execution_count": null,
   "id": "2721f5be",
   "metadata": {},
   "outputs": [],
   "source": [
    "#Visualizamos la informacion básica del conjunto de datos\n",
    "df.info()"
   ]
  },
  {
   "cell_type": "code",
   "execution_count": null,
   "id": "1135316b",
   "metadata": {},
   "outputs": [],
   "source": [
    "#Visualización de la información estadística del conjunto de datos\n",
    "df.describe()"
   ]
  },
  {
   "cell_type": "code",
   "execution_count": null,
   "id": "7a23a91a",
   "metadata": {},
   "outputs": [],
   "source": [
    "# Validación de la correlación entre las variables de entrada con relación a la variable de salida.\n",
    "corr_matrix = df.corr()\n",
    "corr_matrix[\"Exited\"].sort_values(ascending=False)"
   ]
  },
  {
   "cell_type": "code",
   "execution_count": null,
   "id": "e4724276",
   "metadata": {},
   "outputs": [],
   "source": [
    "#Validación si hay algún valor nulo en el conjunto de datos.\n",
    "df.isna().any()"
   ]
  },
  {
   "cell_type": "code",
   "execution_count": null,
   "id": "cb2ba0b1",
   "metadata": {},
   "outputs": [],
   "source": [
    "#Validación de la cantidad de ejemplos que posee el dataset segun la variable de salida.\n",
    "df[\"Exited\"].value_counts()"
   ]
  },
  {
   "cell_type": "code",
   "execution_count": null,
   "id": "80f97ed4",
   "metadata": {},
   "outputs": [],
   "source": [
    "#Transformación de las columnas categoricas a numericas.\n",
    "df_new = pd.get_dummies(df, columns=['Geography','Gender'], drop_first=True)"
   ]
  },
  {
   "cell_type": "code",
   "execution_count": null,
   "id": "b1e1a5ad",
   "metadata": {},
   "outputs": [],
   "source": [
    "#Eliminación de datos que son irrelevantes y que podrian afectar los resultado.\n",
    "df_new = df_new.drop(['RowNumber','CustomerId','Surname'], axis=1)"
   ]
  },
  {
   "cell_type": "code",
   "execution_count": null,
   "id": "69db2504",
   "metadata": {},
   "outputs": [],
   "source": [
    "#Vizualición de los cambios aplicados\n",
    "df_new"
   ]
  },
  {
   "cell_type": "code",
   "execution_count": null,
   "id": "847135ef",
   "metadata": {},
   "outputs": [],
   "source": [
    "# Representación gráfica de la distribución de los atributos\n",
    "df_new.hist(bins=50, figsize=(20,15))\n",
    "plt.show()"
   ]
  },
  {
   "cell_type": "code",
   "execution_count": null,
   "id": "b5f34cd1",
   "metadata": {},
   "outputs": [],
   "source": [
    "edad_grupo = pd.cut(x=df_new['Age'],\n",
    "                    bins=[18,20,30,40,50,60,70,80,92,float('inf')], \n",
    "                    labels=[\"18-20\",\"20-30\",\"30-40\",\"40-50\",\"50-60\",\"60-70\",\"70-80\",\"80-92\",\"92+\"])\n",
    "edad_total = edad_grupo.value_counts().sort_index()\n",
    "\n",
    "edad_indexes = edad_total.index.values\n",
    "edad_valores = edad_total.values"
   ]
  },
  {
   "cell_type": "code",
   "execution_count": null,
   "id": "53d6d8bc",
   "metadata": {},
   "outputs": [],
   "source": [
    "plt.figure(figsize = (12, 8))\n",
    " \n",
    "# Creación de una gráfica bar plot para representar la distribución de la edad\n",
    "edad_bar = plt.bar(edad_indexes, edad_valores, color ='Skyblue', width = 0.4)\n",
    "for i, rectangle in enumerate(edad_bar):\n",
    "    height = rectangle.get_height()\n",
    "    plt.text(rectangle.get_x() + rectangle.get_width()/2, height+2,\n",
    "             edad_valores[i], horizontalalignment='center', weight='bold', fontsize=12)\n",
    " \n",
    "plt.xlabel(\"Edad\", fontsize=13)\n",
    "plt.ylabel(\"Recuento del rango de edad\", fontsize=13)\n",
    "plt.title(\"Distribución de los datos por edad\", weight='bold', fontsize=18)\n",
    "plt.show()"
   ]
  },
  {
   "cell_type": "code",
   "execution_count": null,
   "id": "ccccf1fe",
   "metadata": {},
   "outputs": [],
   "source": [
    "sueldo_grupo = pd.cut(x=df_new['EstimatedSalary'], \n",
    "                      bins=[10,10000,40000,80000,120000,160000,200000,float('inf')], \n",
    "                      labels=[\"10-10000\",\"10000-40000\",\"40000-80000\",\"80000-120000\",\"120000-160000\",\"160000-200000\",\"200000+\"])\n",
    "sueldo_total = sueldo_grupo.value_counts().sort_index()\n",
    "\n",
    "sueldo_indexes = sueldo_total.index.values\n",
    "sueldo_valores = sueldo_total.values"
   ]
  },
  {
   "cell_type": "code",
   "execution_count": null,
   "id": "426968b6",
   "metadata": {},
   "outputs": [],
   "source": [
    "plt.figure(figsize = (15, 15))\n",
    " \n",
    "# Creacion de una gráfica bar plot para representar la distribución del sueldo\n",
    "sueldo_bar = plt.bar(sueldo_indexes, sueldo_valores, color ='Skyblue', width = 0.4)\n",
    "for i, rectangle in enumerate(sueldo_bar):\n",
    "    height = rectangle.get_height()\n",
    "    plt.text(rectangle.get_x() + rectangle.get_width()/2, height+2,\n",
    "             sueldo_valores[i], horizontalalignment='center', weight='bold', fontsize=12)\n",
    " \n",
    "plt.xlabel(\"Sueldo\", fontsize=13)\n",
    "plt.ylabel(\"Recuento del sueldo estimado\", fontsize=13)\n",
    "plt.title(\"Distribución de los datos por la cantidad de sueldo\", weight='bold', fontsize=18)\n",
    "plt.show()"
   ]
  },
  {
   "cell_type": "code",
   "execution_count": null,
   "id": "ba718700",
   "metadata": {},
   "outputs": [],
   "source": [
    "sueldo_grupo = pd.cut(x=df_new['Balance'], \n",
    "                       bins=[10,20000,60000,100000,140000,180000,220000,260000,float('inf')], \n",
    "                       labels=[\"10-20000\",\"40000-60000\",\"60000-100000\",\"100000-140000\",\"140000-180000\",\"180000-220000\",\"220000-260000\",\"260000+\"])\n",
    "sueldo_total = sueldo_grupo.value_counts().sort_index()\n",
    "\n",
    "sueldo_indexes = sueldo_total.index.values\n",
    "sueldo_valores = sueldo_total.values"
   ]
  },
  {
   "cell_type": "code",
   "execution_count": null,
   "id": "23fa6550",
   "metadata": {},
   "outputs": [],
   "source": [
    "plt.figure(figsize = (15, 15))\n",
    " \n",
    "# Creacion de una gráfica bar plot para representar la distribución del sueldo\n",
    "sueldo_bar = plt.bar(sueldo_indexes, sueldo_valores, color ='Skyblue', width = 0.4)\n",
    "for i, rectangle in enumerate(sueldo_bar):\n",
    "    height = rectangle.get_height()\n",
    "    plt.text(rectangle.get_x() + rectangle.get_width()/2, height+2,\n",
    "             sueldo_valores[i], horizontalalignment='center', weight='bold', fontsize=12)\n",
    " \n",
    "plt.xlabel(\"Sueldo\", fontsize=13)\n",
    "plt.ylabel(\"Recuento del sueldo estimado\", fontsize=13)\n",
    "plt.title(\"Distribución de los datos por la cantidad de sueldo\", weight='bold', fontsize=18)\n",
    "plt.show()"
   ]
  },
  {
   "cell_type": "code",
   "execution_count": null,
   "id": "b1856edf",
   "metadata": {},
   "outputs": [],
   "source": [
    "# Creación de una gráfica por género de las personas que hicieron si o no click al anuncio\n",
    "plt.figure(figsize=[15,8])\n",
    "sns.countplot(x = 'Gender', hue = 'Exited', data = df)\n",
    "plt.title('Gráfica de la cantidad por género que se retiraron del banco o se quedaron', weight='bold', fontsize=18)"
   ]
  },
  {
   "cell_type": "code",
   "execution_count": null,
   "id": "d1969bb3",
   "metadata": {},
   "outputs": [],
   "source": [
    "#Creación de una gráfica para representar el porcentaje por género\n",
    "Gender = df['Gender'].value_counts()\n",
    "\n",
    "fig, ax = plt.subplots(figsize =(8, 6))\n",
    "_, _, autotexts = ax.pie(x=Gender, labels=Gender.index, autopct=\"%.2f%%\", radius=1.2,\n",
    "                         colors=sns.color_palette(\"YlOrBr_r\"), explode=None, textprops=dict(fontsize=13))\n",
    "\n",
    "ax.set_title('Distribución de los datos por Género', y=1.1, weight='bold', fontsize=14)\n",
    "\n",
    "for autotext in autotexts:\n",
    "    autotext.set_color('white')\n",
    "    autotext.set_weight('bold')"
   ]
  },
  {
   "cell_type": "code",
   "execution_count": null,
   "id": "294f590f",
   "metadata": {},
   "outputs": [],
   "source": [
    "#Creación de una gráfica para representar el porcentaje por género\n",
    "Gender = df['Geography'].value_counts()\n",
    "\n",
    "fig, ax = plt.subplots(figsize =(8, 6))\n",
    "_, _, autotexts = ax.pie(x=Gender, labels=Gender.index, autopct=\"%.2f%%\", radius=1.2,\n",
    "                         colors=sns.color_palette(\"YlOrBr_r\"), explode=None, textprops=dict(fontsize=13))\n",
    "\n",
    "ax.set_title('Distribución de los datos por Geografia', y=1.1, weight='bold', fontsize=14)\n",
    "\n",
    "for autotext in autotexts:\n",
    "    autotext.set_color('white')\n",
    "    autotext.set_weight('bold')"
   ]
  },
  {
   "cell_type": "markdown",
   "id": "a49c80ff",
   "metadata": {},
   "source": [
    "## Submuestreo"
   ]
  },
  {
   "cell_type": "code",
   "execution_count": null,
   "id": "fe24f31a",
   "metadata": {},
   "outputs": [],
   "source": [
    "#Pasamos los datos a un DataFrame (datos en pandas)\n",
    "X = pd.DataFrame(df_new.drop(\"Exited\", axis=1))\n",
    "y = pd.DataFrame(df_new[\"Exited\"].copy())\n",
    "no = y.sum()\n",
    "si = y.shape[0]- no\n",
    "print('Personas que se quedan en el banco:',si, 'Personas que se van del banco:', no)"
   ]
  },
  {
   "cell_type": "code",
   "execution_count": null,
   "id": "98114dff",
   "metadata": {},
   "outputs": [],
   "source": [
    "#Importamos los paquetes\n",
    "from imblearn.under_sampling import RandomUnderSampler, NearMiss\n",
    "\n",
    "#Inicialización de los métodos de submuestreo\n",
    "#RUS\n",
    "rus = RandomUnderSampler()#random_state = 0\n",
    "#NearMiss\n",
    "nm = NearMiss()"
   ]
  },
  {
   "cell_type": "code",
   "execution_count": null,
   "id": "891586e5",
   "metadata": {},
   "outputs": [],
   "source": [
    "#RUS. Elimina muestras de la clase más representada aleatoriamente\n",
    "X_Rus, y_Rus = rus.fit_resample(X,y)\n",
    "no = y_Rus.sum()\n",
    "si = y_Rus.shape[0]- no\n",
    "print('Personas que se quedan en el banco:',si, 'Personas que se van del banco:', no)\n",
    "X_Rus"
   ]
  },
  {
   "cell_type": "code",
   "execution_count": null,
   "id": "cbebc34f",
   "metadata": {},
   "outputs": [],
   "source": [
    "#NearMiss. Elimina las muestras más cercanas de la clase más representada\n",
    "dataNm, targetNm = nm.fit_resample(data,target)\n",
    "BenignoNm = targetNm.sum()\n",
    "MalignoNm = targetNm.shape[0]- BenignoNm\n",
    "print('Tumores Benignos: ', BenignoNm, ' , Tumores Malignos: ', MalignoNm )\n",
    "dataNm"
   ]
  },
  {
   "cell_type": "markdown",
   "id": "ab2424ea",
   "metadata": {},
   "source": [
    "## Balanceo de los datos"
   ]
  },
  {
   "cell_type": "code",
   "execution_count": null,
   "id": "2ca9ef44",
   "metadata": {},
   "outputs": [],
   "source": [
    "# Conjunto de datos general\n",
    "X_df = df_new.drop(\"Exited\", axis=1)\n",
    "y_df = df_new[\"Exited\"].copy()"
   ]
  },
  {
   "cell_type": "code",
   "execution_count": null,
   "id": "6cdd0ac9",
   "metadata": {},
   "outputs": [],
   "source": [
    "no = y_df.sum()\n",
    "si = y_df.shape[0]- no\n",
    "print('Personas que se quedan en el banco:',si, 'Personas que se van del banco:', no)"
   ]
  },
  {
   "cell_type": "code",
   "execution_count": null,
   "id": "0df5d5c6",
   "metadata": {},
   "outputs": [],
   "source": [
    "#Importamos los paquetes\n",
    "from imblearn.combine import SMOTETomek\n",
    "\n",
    "#Inicialización del método combinado\n",
    "#SMOTE Tomek\n",
    "smoteT = SMOTETomek()#random_state = 0"
   ]
  },
  {
   "cell_type": "code",
   "execution_count": null,
   "id": "6a00902b",
   "metadata": {},
   "outputs": [],
   "source": [
    "#Smote-Tomek. Sobremuestreo con Smote seguido de un submuestreo con Uniones de Tomek\n",
    "X_dfsmoteT, y_dfsmoteT = smoteT.fit_resample(X_df,y_df)\n",
    "nosmoteT = y_dfsmoteT.sum()\n",
    "sismoteT = y_dfsmoteT.shape[0]- nosmoteT\n",
    "print('Personas que se quedan en el banco:', nosmoteT, 'Personas que se van del banco:', sismoteT )\n",
    "X_dfsmoteT"
   ]
  },
  {
   "cell_type": "code",
   "execution_count": null,
   "id": "cd63be5c",
   "metadata": {},
   "outputs": [],
   "source": [
    "#Validación de la cantidad de ejemplos que posee el dataset segun la variable de salida.\n",
    "y_dfsmoteT.value_counts()"
   ]
  },
  {
   "cell_type": "markdown",
   "id": "2c7c7398",
   "metadata": {},
   "source": [
    "## Escalado de los datos"
   ]
  },
  {
   "cell_type": "code",
   "execution_count": null,
   "id": "8628ab27",
   "metadata": {},
   "outputs": [],
   "source": [
    "# Conjunto de datos general\n",
    "X_df = df_new.drop(\"Exited\", axis=1)\n",
    "y_df = df_new[\"Exited\"].copy()"
   ]
  },
  {
   "cell_type": "code",
   "execution_count": null,
   "id": "8bd0b33c",
   "metadata": {},
   "outputs": [],
   "source": [
    "scaler = RobustScaler()\n",
    "X_scaled = scaler.fit_transform(X_df)"
   ]
  },
  {
   "cell_type": "code",
   "execution_count": null,
   "id": "f33a4adb",
   "metadata": {},
   "outputs": [],
   "source": [
    "# Transformación a un DataFrame de Pandas\n",
    "X_scaled = pd.DataFrame(X_scaled, columns=X_df.columns, index=X_df.index)"
   ]
  },
  {
   "cell_type": "code",
   "execution_count": null,
   "id": "59c729af",
   "metadata": {},
   "outputs": [],
   "source": [
    "X_scaled"
   ]
  },
  {
   "cell_type": "markdown",
   "id": "37192118",
   "metadata": {},
   "source": [
    "## Entrenar y evaluar utilizando regresión logística"
   ]
  },
  {
   "cell_type": "code",
   "execution_count": null,
   "id": "f8840c9e",
   "metadata": {},
   "outputs": [],
   "source": [
    "#División del dataset en conjunto de entramiento y prueba\n",
    "from sklearn.model_selection import train_test_split\n",
    "X_train, X_val ,y_train, y_val = train_test_split(X_Rus, y_Rus, test_size = 0.25, random_state=0)"
   ]
  },
  {
   "cell_type": "code",
   "execution_count": null,
   "id": "192b7cbc",
   "metadata": {},
   "outputs": [],
   "source": [
    "# Entrenamos un algoritmo basado en regresión logística\n",
    "from sklearn.linear_model import LogisticRegression\n",
    "\n",
    "#Creación del modelo\n",
    "clf = LogisticRegression(random_state =0).fit(X_train, y_train)"
   ]
  },
  {
   "cell_type": "code",
   "execution_count": null,
   "id": "7cd599a1",
   "metadata": {},
   "outputs": [],
   "source": [
    "#Prediccion con el conjunto de pruebas\n",
    "y_pred = clf.predict(X_val)"
   ]
  },
  {
   "cell_type": "code",
   "execution_count": null,
   "id": "7d792653",
   "metadata": {},
   "outputs": [],
   "source": [
    "#Validación del accuracy\n",
    "from sklearn.metrics import accuracy_score\n",
    "print('Accuracy: {:.3f}'.format(accuracy_score(y_val, y_pred)))"
   ]
  },
  {
   "cell_type": "code",
   "execution_count": null,
   "id": "3a3fb9cd",
   "metadata": {},
   "outputs": [],
   "source": [
    "#Validación de la matriz de confusión\n",
    "from sklearn.metrics import confusion_matrix\n",
    "confusion_matrix(y_val, y_pred)"
   ]
  },
  {
   "cell_type": "code",
   "execution_count": null,
   "id": "2bcfd138",
   "metadata": {},
   "outputs": [],
   "source": []
  }
 ],
 "metadata": {
  "kernelspec": {
   "display_name": "Python 3",
   "language": "python",
   "name": "python3"
  },
  "language_info": {
   "codemirror_mode": {
    "name": "ipython",
    "version": 3
   },
   "file_extension": ".py",
   "mimetype": "text/x-python",
   "name": "python",
   "nbconvert_exporter": "python",
   "pygments_lexer": "ipython3",
   "version": "3.8.8"
  }
 },
 "nbformat": 4,
 "nbformat_minor": 5
}
